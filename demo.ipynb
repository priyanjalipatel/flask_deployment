{
 "cells": [
  {
   "cell_type": "code",
   "execution_count": 1,
   "id": "e02d90a6-89b1-4fc9-9ac5-1b7753848401",
   "metadata": {},
   "outputs": [
    {
     "name": "stdout",
     "output_type": "stream",
     "text": [
      "Accuracy: 0.956140350877193\n",
      "Model saved as model.pkl (compressed).\n"
     ]
    }
   ],
   "source": [
    "import pandas as pd\n",
    "from sklearn.ensemble import RandomForestClassifier\n",
    "from sklearn.model_selection import train_test_split\n",
    "from sklearn.feature_selection import SelectKBest, f_classif\n",
    "from sklearn.metrics import accuracy_score\n",
    "from joblib import dump\n",
    "\n",
    "# Load your dataset (replace with your actual file)\n",
    "# Example: df = pd.read_csv(\"your_data.csv\")\n",
    "# For demonstration:\n",
    "from sklearn.datasets import load_breast_cancer\n",
    "data = load_breast_cancer()\n",
    "X, y = pd.DataFrame(data.data, columns=data.feature_names), data.target\n",
    "\n",
    "# Optional: reduce dimensionality (keep only top 15 features)\n",
    "selector = SelectKBest(score_func=f_classif, k=15)\n",
    "X_new = selector.fit_transform(X, y)\n",
    "\n",
    "# Split data\n",
    "X_train, X_test, y_train, y_test = train_test_split(X_new, y, test_size=0.2, random_state=42)\n",
    "\n",
    "# Train a compact Random Forest model\n",
    "model = RandomForestClassifier(n_estimators=25, max_depth=6, random_state=42)\n",
    "model.fit(X_train, y_train)\n",
    "\n",
    "# Test model performance (optional)\n",
    "y_pred = model.predict(X_test)\n",
    "print(\"Accuracy:\", accuracy_score(y_test, y_pred))\n",
    "\n",
    "# Save model with compression\n",
    "dump(model, \"model.pkl\", compress=4)  # compression level 0–9\n",
    "print(\"Model saved as model.pkl (compressed).\")\n"
   ]
  }
 ],
 "metadata": {
  "kernelspec": {
   "display_name": "Python 3 (ipykernel)",
   "language": "python",
   "name": "python3"
  },
  "language_info": {
   "codemirror_mode": {
    "name": "ipython",
    "version": 3
   },
   "file_extension": ".py",
   "mimetype": "text/x-python",
   "name": "python",
   "nbconvert_exporter": "python",
   "pygments_lexer": "ipython3",
   "version": "3.12.4"
  }
 },
 "nbformat": 4,
 "nbformat_minor": 5
}
